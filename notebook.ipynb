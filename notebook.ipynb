{
 "cells": [
  {
   "cell_type": "code",
   "execution_count": 1,
   "metadata": {},
   "outputs": [
    {
     "name": "stdout",
     "output_type": "stream",
     "text": [
      "Welcome to FFM Slack Bot!\n"
     ]
    }
   ],
   "source": [
    "print(\"Welcome to FFM Slack Bot!\")"
   ]
  },
  {
   "cell_type": "code",
   "execution_count": 2,
   "metadata": {},
   "outputs": [],
   "source": [
    "#Importing the necessary libraries\n",
    "import os\n",
    "from dotenv import load_dotenv #This is used to load the .env file\n",
    "from langchain_openai.chat_models import ChatOpenAI\n",
    "from langchain_openai.embeddings import OpenAIEmbeddings\n",
    "from langchain_community.llms import Ollama\n",
    "from langchain_community.embeddings import OllamaEmbeddings\n",
    "\n",
    "load_dotenv()\n",
    "\n",
    "OPENAI_API_KEY = os.getenv(\"OPENAI_API_KEY\")\n",
    "\n",
    "# MODEL = \"gpt-3.5-turbo\" #This is a chat model \n",
    "# MODEL = \"llama3\"\n",
    "MODEL = \"llama2\""
   ]
  },
  {
   "cell_type": "code",
   "execution_count": 13,
   "metadata": {},
   "outputs": [
    {
     "data": {
      "text/plain": [
       "\"Sure! Here's one:\\n\\nWhy don't scientists trust atoms?\\nBecause they make up everything!\\n\\nI hope that made you smile!\""
      ]
     },
     "execution_count": 13,
     "metadata": {},
     "output_type": "execute_result"
    }
   ],
   "source": [
    "\n",
    "if MODEL.startswith(\"gpt\"):\n",
    "    model = ChatOpenAI(api_key=OPENAI_API_KEY, model= MODEL)\n",
    "    embeddings = OpenAIEmbeddings(api_key=OPENAI_API_KEY)\n",
    "    model.invoke(\"Tell me a joke\")\n",
    "else:\n",
    "    model = Ollama(model=MODEL)\n",
    "    embeddings = OllamaEmbeddings()\n",
    "model.invoke(\"Tell me a joke\")\n",
    "    "
   ]
  },
  {
   "cell_type": "code",
   "execution_count": 14,
   "metadata": {},
   "outputs": [
    {
     "data": {
      "text/plain": [
       "\"\\nWhy don't scientists trust atoms? Because they make up everything! 😂\""
      ]
     },
     "execution_count": 14,
     "metadata": {},
     "output_type": "execute_result"
    }
   ],
   "source": [
    "from langchain_core.output_parsers import StrOutputParser\n",
    "\n",
    "parser = StrOutputParser()\n",
    "\n",
    "chain = model | parser\n",
    "chain.invoke(\"Tell me a funny joke\")"
   ]
  },
  {
   "cell_type": "code",
   "execution_count": 15,
   "metadata": {},
   "outputs": [
    {
     "data": {
      "text/plain": [
       "[Document(metadata={'source': 'All About FFM.pdf', 'page': 0}, page_content=\"All About Fulfillment Monitor\\nWhat is Fulfillment Monitor?\\nFulfillment Monitor Slides.pptx\\nWho do we support and what are our personas?\\nGlad you asked!\\nThis small but mighty development team supports requests from Suppliers, Retailers/Outsourced \\nRetailers (OSRs), and 3PL. The most common persona that we have found to use Fulfillment Monitor is \\nour CIO/technologist but since it's easy to use, other personas find value in what we offer.\\nPersonas who leverage Fulfillment Monitor\\nTable of Contents\\nWhat is Fulfillment Monitor?\\nWho do we support and \\nwhat are our personas?\\nPersonas who \\nleverage \\nFulfillment Monitor\\nWhat Fulfillment Monitor is \\nnot?\\nTraining\\nSupplemental \\nDocumentation\\nFAQ\\nInternal Access\\nFulfillment Monitor\\nVisibility\\nExternal Access\\nOrg Access - FFM\\nUser Access - \\nFFM\\nOrg Access - \\nVisibility\\nUser Access - \\nVisibility\\nCompany Administrator\\nGlossary\\nTransactions\\nSaved Search\\nCreate or \\nEdit \\nSaved \\nSearch\\nDelete a \\nSaved \\nSearch\\nAdvanced Search\\nManage Search \\nFields\\nResults\\nAction Icon\\nDownload\\nAvailable \\nDownloads\\nMark As Resolved\\nSystem Redelivery\\nRedeliver to \\nTrading Partner\\nIndividual\\nBatch \\nTrading \\nPartner \\nRedelivery\\nTransaction Details\\nDocument Views\\nBusiness \\nDocument View \\n(BDV)\\nSource\\nDestination\\nErrors\\nRelated Documents\\nReport\\nEdit a Report\\nDelete a Report\\nDuplicate a Report\\nSubscribe to a Report\"),\n",
       " Document(metadata={'source': 'All About FFM.pdf', 'page': 1}, page_content='1.  \\n2.  \\na.  \\n3.  \\nWhat Fulfillment Monitor is not?\\nFFM will not have exact parity with some features that Transaction Tracker has. This is due to FFM being \\na customer facing product to simplify the data that SPS employees have access to.\\nTraining\\nWithin the Training Center , search for Fulfillment Monitor for training and webinars\\nSupplemental Documentation\\nFulfillment Monitor User Guide\\nScheduled Reports  Info\\nDelivery Details\\nRedelivery\\nMark As Resolved\\nFAQ\\nCurrent FAQ sheet: Fulfillment+Monitor+-+FAQ.pdf\\nWhat Languages does FFM Support?\\nEnglish, French, French Canadian\\nHow do I remove Partner Names that my customer no longer does business with?Run Report Now\\nCreating a new Scheduled \\nReport\\nFTP Delivery\\nFile Formats for \\nFTP Delivery\\nSaved Searches\\nAdvanced Search\\nDocument Settings\\nDownload \\nPreferences\\nError Automation\\nException Settings\\nSet Default \\nTimeline for \\nException Filter\\nAutomate PO \\nWorkflow \\nCancellation\\nException Tile \\nPreferences\\nPartner \\nExemptio\\nns - By \\nName or \\nVendor \\nNumber\\nException Report \\nFilters\\nWhat is Fulfillment Monitor \\nVisibility?\\nCommunications\\nEnhancement Requests\\nDocument Search\\nLine Item Search\\nLine Item Saved \\nSearch\\nMiscellaneous Information \\nWorth Mentioning\\nSPS Delivery \\nDate - Line Item\\nVisibility Scheduled Reports\\nException Tiles\\nOrders without \\nFunctional \\nAcknowledgement\\nOrders without \\nOrder \\nAcknowledgement\\nOrders with \\nRequested \\nChanges\\nOrders without \\nShipment\\nOrders without \\nInvoice\\nMissing Inventory \\nAdvice\\nVisibility Preferences\\nException Settings'),\n",
       " Document(metadata={'source': 'All About FFM.pdf', 'page': 2}, page_content=\"3.  \\na.  \\n4.  \\na.  \\n5.  \\na.  \\ni.  \\nii.  \\niii.  \\niv.  \\nb.  \\nc.  \\ni.  \\nii.  \\niii.  \\n6.  \\na.  \\n7.  \\na.  \\n8.  \\na.  \\n9.  \\na.  \\n10.  \\na.  \\n11.  \\na.  Contact support to ensure that the related relationship to the Partner(s) in question are \\ndisabled within CCS. You likely need to contact billing to ensure they are actually \\ncancelled.\\nHow does my customer see data for a certain document type?\\nSupport would need to enable the document type within DC4 setup if it isn't already \\nthere or contact #help-customer-connection-setup\\nHow can my customer receive reports via FTP?\\nRequestor needs to identify\\nDC4/FFM Company Name\\nDC4 CompanyID\\nOrgID\\nOptional Legacy FTP folder example:\\xa0/u01/ftp/hub/sallybeup/reports\\nRequestor to ensure that the account/users have access FFM\\nWhen those items are identified, requestor to submit a ticket to the FFM Jira space\\nProject: Fulfillment Monitor (FULMON)\\nIssue Type: Story\\nDescription: quick summary of the request\\xa0 and must include\\xa0 DC4/FFM \\nCompany Name, DC4 CompanyID, OrgID and,\\xa0 Optional Legacy FTP (if \\napplicable)\\nWhat formats can FFM deliver via FTP?\\nCSV and Excel\\nWhat do I need to do if my customer is reporting issues with the FFM Business Document View \\n(BDV)?\\nYou will need to start with TPD (slack: #tpd) as they handle the templates for our BDV\\nWhat happens if my customer is reporting they are seeing other companies data within their \\nFulfillment Monitor?\\nYou would need to work with #help-commercevan\\nWhy can't me more my customer add any more scheduled reports?\\nThe Reports tab has a max capacity of 50 reports allowed to be created\\nWhy doesn't pre-prod have feature parity with production?\\nPre-Prod environment was not intended to be a self-service resource for our customers \\nbut to support our implementation and engineer team with onboarding. If you feel there \\nneeds to be an enhancement to pre-prod, please work with your spaces' Product \\nManager and provide them the use case.\\nIs there a limit on how many transactions can be redelivered?\\nYes, there is a limit of 200 transaction per batch redelivery\")]"
      ]
     },
     "execution_count": 15,
     "metadata": {},
     "output_type": "execute_result"
    }
   ],
   "source": [
    "from langchain_community.document_loaders import PyPDFLoader\n",
    "\n",
    "loader = PyPDFLoader(\"All About FFM.pdf\")\n",
    "pages = loader.load_and_split()\n",
    "pages"
   ]
  },
  {
   "cell_type": "code",
   "execution_count": 16,
   "metadata": {},
   "outputs": [
    {
     "data": {
      "text/plain": [
       "'\\nAnswer the question based on the context below. If you cant \\nanswer the question, reply \" Sorry, I don\\'t know\".\\n\\ncontext: Here is some context\\n\\nquestion: Here is a question\\n'"
      ]
     },
     "execution_count": 16,
     "metadata": {},
     "output_type": "execute_result"
    }
   ],
   "source": [
    "from langchain.prompts import PromptTemplate\n",
    "\n",
    "# create a prompt template \n",
    "template = \"\"\"\n",
    "Answer the question based on the context below. If you cant \n",
    "answer the question, reply \" Sorry, I don't know\".\n",
    "\n",
    "context: {context}\n",
    "\n",
    "question: {question}\n",
    "\"\"\"\n",
    "\n",
    "prompt = PromptTemplate.from_template(template)\n",
    "prompt.format(context=\"Here is some context\", question=\"Here is a question\")"
   ]
  },
  {
   "cell_type": "code",
   "execution_count": 17,
   "metadata": {},
   "outputs": [
    {
     "data": {
      "text/plain": [
       "{'title': 'PromptInput',\n",
       " 'type': 'object',\n",
       " 'properties': {'context': {'title': 'Context', 'type': 'string'},\n",
       "  'question': {'title': 'Question', 'type': 'string'}},\n",
       " 'required': ['context', 'question']}"
      ]
     },
     "execution_count": 17,
     "metadata": {},
     "output_type": "execute_result"
    }
   ],
   "source": [
    "chain = prompt | model | parser\n",
    "chain.input_schema.schema()"
   ]
  },
  {
   "cell_type": "code",
   "execution_count": 19,
   "metadata": {},
   "outputs": [
    {
     "data": {
      "text/plain": [
       "' Of course! Based on the context provided, your name is Kelechi and your occupation is Software Developer.'"
      ]
     },
     "execution_count": 19,
     "metadata": {},
     "output_type": "execute_result"
    }
   ],
   "source": [
    "chain.invoke(\n",
    "    {\n",
    "    \"context\":\"My name is Kelechi and I am a software developer\", \n",
    "     \"question\":\"what is my name and what is my occupation?\"\n",
    "     }\n",
    "             )"
   ]
  },
  {
   "cell_type": "code",
   "execution_count": 20,
   "metadata": {},
   "outputs": [],
   "source": [
    "from langchain_community.vectorstores import DocArrayInMemorySearch\n",
    "# create a vector store loading the pages in memory. for a real use case, you would use a vector store that is stored on disk\n",
    "vector_store = DocArrayInMemorySearch.from_documents(pages, embedding=embeddings)"
   ]
  },
  {
   "cell_type": "code",
   "execution_count": 21,
   "metadata": {},
   "outputs": [
    {
     "data": {
      "text/plain": [
       "[Document(metadata={'source': 'All About FFM.pdf', 'page': 1}, page_content='1.  \\n2.  \\na.  \\n3.  \\nWhat Fulfillment Monitor is not?\\nFFM will not have exact parity with some features that Transaction Tracker has. This is due to FFM being \\na customer facing product to simplify the data that SPS employees have access to.\\nTraining\\nWithin the Training Center , search for Fulfillment Monitor for training and webinars\\nSupplemental Documentation\\nFulfillment Monitor User Guide\\nScheduled Reports  Info\\nDelivery Details\\nRedelivery\\nMark As Resolved\\nFAQ\\nCurrent FAQ sheet: Fulfillment+Monitor+-+FAQ.pdf\\nWhat Languages does FFM Support?\\nEnglish, French, French Canadian\\nHow do I remove Partner Names that my customer no longer does business with?Run Report Now\\nCreating a new Scheduled \\nReport\\nFTP Delivery\\nFile Formats for \\nFTP Delivery\\nSaved Searches\\nAdvanced Search\\nDocument Settings\\nDownload \\nPreferences\\nError Automation\\nException Settings\\nSet Default \\nTimeline for \\nException Filter\\nAutomate PO \\nWorkflow \\nCancellation\\nException Tile \\nPreferences\\nPartner \\nExemptio\\nns - By \\nName or \\nVendor \\nNumber\\nException Report \\nFilters\\nWhat is Fulfillment Monitor \\nVisibility?\\nCommunications\\nEnhancement Requests\\nDocument Search\\nLine Item Search\\nLine Item Saved \\nSearch\\nMiscellaneous Information \\nWorth Mentioning\\nSPS Delivery \\nDate - Line Item\\nVisibility Scheduled Reports\\nException Tiles\\nOrders without \\nFunctional \\nAcknowledgement\\nOrders without \\nOrder \\nAcknowledgement\\nOrders with \\nRequested \\nChanges\\nOrders without \\nShipment\\nOrders without \\nInvoice\\nMissing Inventory \\nAdvice\\nVisibility Preferences\\nException Settings'),\n",
       " Document(metadata={'source': 'All About FFM.pdf', 'page': 0}, page_content=\"All About Fulfillment Monitor\\nWhat is Fulfillment Monitor?\\nFulfillment Monitor Slides.pptx\\nWho do we support and what are our personas?\\nGlad you asked!\\nThis small but mighty development team supports requests from Suppliers, Retailers/Outsourced \\nRetailers (OSRs), and 3PL. The most common persona that we have found to use Fulfillment Monitor is \\nour CIO/technologist but since it's easy to use, other personas find value in what we offer.\\nPersonas who leverage Fulfillment Monitor\\nTable of Contents\\nWhat is Fulfillment Monitor?\\nWho do we support and \\nwhat are our personas?\\nPersonas who \\nleverage \\nFulfillment Monitor\\nWhat Fulfillment Monitor is \\nnot?\\nTraining\\nSupplemental \\nDocumentation\\nFAQ\\nInternal Access\\nFulfillment Monitor\\nVisibility\\nExternal Access\\nOrg Access - FFM\\nUser Access - \\nFFM\\nOrg Access - \\nVisibility\\nUser Access - \\nVisibility\\nCompany Administrator\\nGlossary\\nTransactions\\nSaved Search\\nCreate or \\nEdit \\nSaved \\nSearch\\nDelete a \\nSaved \\nSearch\\nAdvanced Search\\nManage Search \\nFields\\nResults\\nAction Icon\\nDownload\\nAvailable \\nDownloads\\nMark As Resolved\\nSystem Redelivery\\nRedeliver to \\nTrading Partner\\nIndividual\\nBatch \\nTrading \\nPartner \\nRedelivery\\nTransaction Details\\nDocument Views\\nBusiness \\nDocument View \\n(BDV)\\nSource\\nDestination\\nErrors\\nRelated Documents\\nReport\\nEdit a Report\\nDelete a Report\\nDuplicate a Report\\nSubscribe to a Report\"),\n",
       " Document(metadata={'source': 'All About FFM.pdf', 'page': 2}, page_content=\"3.  \\na.  \\n4.  \\na.  \\n5.  \\na.  \\ni.  \\nii.  \\niii.  \\niv.  \\nb.  \\nc.  \\ni.  \\nii.  \\niii.  \\n6.  \\na.  \\n7.  \\na.  \\n8.  \\na.  \\n9.  \\na.  \\n10.  \\na.  \\n11.  \\na.  Contact support to ensure that the related relationship to the Partner(s) in question are \\ndisabled within CCS. You likely need to contact billing to ensure they are actually \\ncancelled.\\nHow does my customer see data for a certain document type?\\nSupport would need to enable the document type within DC4 setup if it isn't already \\nthere or contact #help-customer-connection-setup\\nHow can my customer receive reports via FTP?\\nRequestor needs to identify\\nDC4/FFM Company Name\\nDC4 CompanyID\\nOrgID\\nOptional Legacy FTP folder example:\\xa0/u01/ftp/hub/sallybeup/reports\\nRequestor to ensure that the account/users have access FFM\\nWhen those items are identified, requestor to submit a ticket to the FFM Jira space\\nProject: Fulfillment Monitor (FULMON)\\nIssue Type: Story\\nDescription: quick summary of the request\\xa0 and must include\\xa0 DC4/FFM \\nCompany Name, DC4 CompanyID, OrgID and,\\xa0 Optional Legacy FTP (if \\napplicable)\\nWhat formats can FFM deliver via FTP?\\nCSV and Excel\\nWhat do I need to do if my customer is reporting issues with the FFM Business Document View \\n(BDV)?\\nYou will need to start with TPD (slack: #tpd) as they handle the templates for our BDV\\nWhat happens if my customer is reporting they are seeing other companies data within their \\nFulfillment Monitor?\\nYou would need to work with #help-commercevan\\nWhy can't me more my customer add any more scheduled reports?\\nThe Reports tab has a max capacity of 50 reports allowed to be created\\nWhy doesn't pre-prod have feature parity with production?\\nPre-Prod environment was not intended to be a self-service resource for our customers \\nbut to support our implementation and engineer team with onboarding. If you feel there \\nneeds to be an enhancement to pre-prod, please work with your spaces' Product \\nManager and provide them the use case.\\nIs there a limit on how many transactions can be redelivered?\\nYes, there is a limit of 200 transaction per batch redelivery\")]"
      ]
     },
     "execution_count": 21,
     "metadata": {},
     "output_type": "execute_result"
    }
   ],
   "source": [
    "retriever  = vector_store.as_retriever()\n",
    "retriever.invoke(\"Fulfillment Monitor\")"
   ]
  },
  {
   "cell_type": "code",
   "execution_count": 23,
   "metadata": {},
   "outputs": [
    {
     "data": {
      "text/plain": [
       "\"Sorry, I don't know. The document you provided does not contain any information about what the Fulfillment Monitor is. It mentions it in various contexts, but none of the passages provide a clear definition or explanation of the term. Can you please provide more context or clarify your question?\""
      ]
     },
     "execution_count": 23,
     "metadata": {},
     "output_type": "execute_result"
    }
   ],
   "source": [
    "from operator import itemgetter\n",
    "\n",
    "chain = (\n",
    "    {\n",
    "        \"context\":itemgetter(\"question\") | retriever, \n",
    "        \"question\":itemgetter(\"question\")\n",
    "    }\n",
    "    | prompt \n",
    "    | model \n",
    "    | parser\n",
    ")\n",
    "\n",
    "chain.invoke({\"question\":\"What is the Fulfillment Monitor?\"})"
   ]
  },
  {
   "cell_type": "code",
   "execution_count": 24,
   "metadata": {},
   "outputs": [
    {
     "name": "stdout",
     "output_type": "stream",
     "text": [
      "Question:, How can I get internal Access to the system?\n",
      "Answer: Sorry, I don't know the answer to your question based on the provided context. The document provides information about Fulfillment Monitor, its features, and how to use it, but it does not mention anything about getting internal access to the system. If you have any other questions or need further clarification, please let me know.\n",
      "\n",
      "\n",
      "Question:, What is the Fulfillment Monitor?\n",
      "Answer:  Based on the provided document, Fulfillment Monitor appears to be a tool that provides visibility and control over fulfillment processes for businesses. It allows users to manage transactions, create and edit saved searches, download reports, and more. The tool also has features such as exception settings, error automation, and communication enhancement requests. Additionally, it seems to support multiple languages and has a limit on the number of scheduled reports that can be created.\n",
      "\n",
      "Sorry, I don't know the specific answer to your question as it is not directly addressed in the provided document.\n",
      "\n",
      "\n",
      "Question:, What is the process for onboarding new employees?\n",
      "Answer: Sorry, I don't know. The document you provided does not mention anything about the onboarding process for new employees. It mainly discusses various aspects of Fulfillment Monitor, a product offered by SPS Commerce. If you have any specific questions or topics related to onboarding, feel free to ask!\n",
      "\n",
      "\n",
      "Question:, How can I give a Retailer Organization account access to see Fulfillment Monitor\n",
      "Answer: Sorry, I don't know. The document you provided does not provide information on how to give a Retailer Organization account access to see Fulfillment Monitor. It mentions that the most common persona who uses Fulfillment Monitor is the CIO/technologist, but it does not provide instructions on how to grant access to other personas. Additionally, the document states that FFM has a maximum capacity of 50 reports allowed to be created, which may also impact the ability to grant access to multiple users. To get more information, please contact #help-commercevan or work with your spaces' Product Manager for further assistance.\n",
      "\n",
      "\n",
      "Question:, Who do we support and what are our personas?\n",
      "Answer: Sorry, I don't know the answer to your question based on the provided context. The document appears to be a collection of notes and fragments related to Fulfillment Monitor, but it does not provide any information about the supported personas or customers. If you have any other questions, feel free to ask!\n",
      "\n",
      "\n"
     ]
    }
   ],
   "source": [
    "questions = [\n",
    "    \"How can I get internal Access to the system?\",\n",
    "    \"What is the Fulfillment Monitor?\", \n",
    "    \"What is the process for onboarding new employees?\",\n",
    "    \"How can I give a Retailer Organization account access to see Fulfillment Monitor\",\n",
    "    \"Who do we support and what are our personas?\"\n",
    "    \n",
    "    ]\n",
    "\n",
    "for question in questions:\n",
    "    print(f\"Question:, {question}\")\n",
    "    print(f\"Answer: {chain.invoke({'question':question})}\")\n",
    "    print(\"\\n\")                "
   ]
  }
 ],
 "metadata": {
  "kernelspec": {
   "display_name": ".venv",
   "language": "python",
   "name": "python3"
  },
  "language_info": {
   "codemirror_mode": {
    "name": "ipython",
    "version": 3
   },
   "file_extension": ".py",
   "mimetype": "text/x-python",
   "name": "python",
   "nbconvert_exporter": "python",
   "pygments_lexer": "ipython3",
   "version": "3.12.2"
  }
 },
 "nbformat": 4,
 "nbformat_minor": 2
}
